{
 "nbformat": 4,
 "nbformat_minor": 2,
 "metadata": {
  "language_info": {
   "name": "python",
   "codemirror_mode": {
    "name": "ipython",
    "version": 3
   },
   "version": "3.6.9"
  },
  "orig_nbformat": 2,
  "file_extension": ".py",
  "mimetype": "text/x-python",
  "name": "python",
  "npconvert_exporter": "python",
  "pygments_lexer": "ipython3",
  "version": 3
 },
 "cells": [
  {
   "cell_type": "markdown",
   "execution_count": 8,
   "metadata": {},
   "outputs": [],
   "source": [
    "# CIFAR10 Classifier"
   ]
  },
  {
   "cell_type": "code",
   "execution_count": 138,
   "metadata": {},
   "outputs": [],
   "source": [
    "import torch\n",
    "import torchvision\n",
    "import torchvision.transforms as transforms"
   ]
  },
  {
   "cell_type": "markdown",
   "execution_count": null,
   "metadata": {},
   "outputs": [],
   "source": [
    "## Prepare Data"
   ]
  },
  {
   "cell_type": "code",
   "execution_count": 165,
   "metadata": {},
   "outputs": [
    {
     "name": "stdout",
     "output_type": "stream",
     "text": "Files already downloaded and verified\n"
    }
   ],
   "source": [
    "valid_ratio = 0.3\n",
    "batch_size = 128\n",
    "transform = transforms.Compose([transforms.ToTensor()])\n",
    "\n",
    "cifar_train = torchvision.datasets.CIFAR10(root='./data', train=True, download=True, transform=transform)\n",
    "\n",
    "num_train = int((1.0 - valid_ratio) * len(cifar_train))\n",
    "num_valid = int(valid_ratio * len(cifar_train))\n",
    "\n",
    "train_set, valid_set = torch.utils.data.dataset.random_split(cifar_train, [num_train, num_valid])\n",
    "\n",
    "train_loader = torch.utils.data.DataLoader(train_set, batch_size=batch_size, shuffle=True)\n",
    "valid_loader = torch.utils.data.DataLoader(valid_set, batch_size=batch_size, shuffle=True)\n",
    "\n",
    "classes = ('Airplane', 'Car', 'Bird', 'Cat', 'Deer', 'Dog', 'Frog', 'Horse', 'Boat', 'Truck')\n",
    "\n"
   ]
  },
  {
   "cell_type": "markdown",
   "execution_count": null,
   "metadata": {},
   "outputs": [],
   "source": [
    "# Visualize Dataset\n"
   ]
  },
  {
   "cell_type": "code",
   "execution_count": 166,
   "metadata": {},
   "outputs": [
    {
     "data": {
      "image/png": "[encoded data removed]",
      "text/plain": "<Figure size 432x288 with 1 Axes>"
     },
     "metadata": {
      "needs_background": "light"
     },
     "output_type": "display_data"
    },
    {
     "name": "stdout",
     "output_type": "stream",
     "text": "Boat Airplane  Frog Truck\n"
    }
   ],
   "source": [
    "import matplotlib.pyplot as plt\n",
    "import numpy as np\n",
    "\n",
    "# functions to show an image\n",
    "def imshow(img):\n",
    "    img = img / 2 + 0.5     # unnormalize\n",
    "    npimg = img.numpy()\n",
    "    plt.imshow(np.transpose(npimg, (1, 2, 0)))\n",
    "    plt.show()\n",
    "\n",
    "\n",
    "# get iterater for loaded training images\n",
    "dataiter = iter(train_loader)\n",
    "\n",
    "# get the next batch of images and labels\n",
    "images, labels = dataiter.next()\n",
    "\n",
    "# show images\n",
    "imshow(torchvision.utils.make_grid(images[:4,]))\n",
    "# print labels\n",
    "print(' '.join('%5s' % classes[labels[j]] for j in range(4)))"
   ]
  },
  {
   "cell_type": "markdown",
   "execution_count": null,
   "metadata": {},
   "outputs": [],
   "source": [
    "## Define CNN"
   ]
  },
  {
   "cell_type": "code",
   "execution_count": 167,
   "metadata": {},
   "outputs": [],
   "source": [
    "import torch.nn as nn \n",
    "import torch.nn.functional as F\n",
    "\n",
    "class Network(nn.Module):\n",
    "    def __init__(self):\n",
    "        super(Network, self).__init__()\n",
    "        self.conv1 = nn.Conv2d(in_channels=3, out_channels=8, kernel_size=3, stride=1, padding=1)\n",
    "        self.pool = nn.MaxPool2d(kernel_size=2, stride=2, padding=0)\n",
    "        self.conv2 = nn.Conv2d(in_channels=8, out_channels=16, kernel_size=3, stride=1, padding=1)\n",
    "        self.conv3 = nn.Conv2d(in_channels=16, out_channels=16, kernel_size=3, stride=1, padding=0)\n",
    "\n",
    "        self.fc1 = nn.Linear(16 * 6 * 6, 512) # Flatten output of previous layer\n",
    "        self.fc2 = nn.Linear(512, 128)\n",
    "        self.fc3 = nn.Linear(128, 10)\n",
    "\n",
    "    def forward(self, x):\n",
    "        #input layer\n",
    "        x = x\n",
    "        \n",
    "        # layer 1\n",
    "        x = self.conv1(x)\n",
    "        x = F.relu(x)\n",
    "        x = self.pool(x)\n",
    "\n",
    "        # layer 2\n",
    "        x = self.conv2(x)\n",
    "        x = F.relu(x)\n",
    "        x = self.pool(x)\n",
    "\n",
    "        # layer 3\n",
    "        x = self.conv3(x)\n",
    "        x = F.relu(x)\n",
    "  \n",
    "        # layer 4\n",
    "        # reshape by multiplying dimensions of x after previous layer\n",
    "        x = x.view(-1, 16 * 6 * 6) \n",
    "        x = self.fc1(x)\n",
    "        x = F.relu(x)\n",
    "\n",
    "        # layer 5\n",
    "        x = self.fc2(x)\n",
    "        x = F.relu(x)\n",
    "        \n",
    "        # Output layer\n",
    "        x = self.fc3(x)\n",
    "\n",
    "        return x\n"
   ]
  },
  {
   "cell_type": "markdown",
   "execution_count": null,
   "metadata": {},
   "outputs": [],
   "source": [
    "## Training Loop"
   ]
  },
  {
   "cell_type": "code",
   "execution_count": 168,
   "metadata": {},
   "outputs": [],
   "source": [
    "def get_num_correct(predictions, labels):\n",
    "  return predictions.argmax(dim=1).eq(labels).sum().item()"
   ]
  },
  {
   "cell_type": "code",
   "execution_count": 177,
   "metadata": {},
   "outputs": [],
   "source": [
    "import torch\n",
    "import torch.optim as optim\n",
    "import torch.nn as nn\n",
    "import torch.nn.functional as F\n",
    "import matplotlib.pyplot as plt\n",
    "\n",
    "for lr in [0.0005, 0.00075, 0.001, 0.0025, 0.005]:\n",
    "    network = Network()\n",
    "    optimizer = optim.Adam(network.parameters(), lr=lr) # parameters are weights and baises\n",
    "\n",
    "    train_loss = []\n",
    "    valid_loss = []\n",
    "    for epoch in range(10):\n",
    "        train_correct = 0\n",
    "        batch_loss = []\n",
    "        for batch in train_loader:\n",
    "            images, labels = batch\n",
    "\n",
    "            predictions = network(images)\n",
    "            loss = F.cross_entropy(predictions, labels)\n",
    "\n",
    "            optimizer.zero_grad()\n",
    "            loss.backward()\n",
    "            optimizer.step()\n",
    "            batch_loss.append(loss.item())\n",
    "            train_correct += get_num_correct(predictions, labels)\n",
    "        \n",
    "        train_loss.append(sum(batch_loss)/len(batch_loss))\n",
    "        with torch.no_grad():\n",
    "            batch_loss = []\n",
    "            valid_correct = 0\n",
    "            for batch in valid_loader:\n",
    "                images, labels = batch\n",
    "\n",
    "                predictions = network(images)\n",
    "                loss = F.cross_entropy(predictions, labels)\n",
    "                batch_loss.append(loss.item())\n",
    "                valid_correct += get_num_correct(predictions, labels)\n",
    "            \n",
    "            valid_loss.append(sum(batch_loss)/len(batch_loss))\n",
    "        \n",
    "        print(f\"epoch: {epoch} \\t train loss: {train_loss[-1]: .3f} \\t train accuracy: {train_correct/len(train_set): .3f} \\t valid loss: {valid_loss[-1]: .3f} \\t valid accuracy: {valid_correct/len(valid_set):.3f}\")\n",
    "\n",
    "        plt.figure()\n",
    "        plt.plot(train_loss, label=\"Train Loss\")\n",
    "        plt.plot(valid_loss, label=\"Valid Loss\")\n",
    "        plt.xlabel(\"Epochs\")\n",
    "        plt.ylabel(\"Loss\")\n",
    "        plt.title(f\"Optimizer: Adam, Learning Rate: {lr}\")\n",
    "        plt.legend()\n",
    "\n",
    "\n",
    "\n"
   ]
  },
  {
   "cell_type": "markdown",
   "execution_count": null,
   "metadata": {},
   "outputs": [],
   "source": [
    "## Training Visualization"
   ]
  },
  {
   "cell_type": "code",
   "execution_count": 0,
   "metadata": {},
   "outputs": [],
   "source": [
    "plt.plot(train_loss, label=\"Train Loss\")\n",
    "plt.plot(valid_loss, label=\"Valid Loss\")\n",
    "plt.xlabel(\"Epochs\")\n",
    "plt.ylabel(\"Loss\")\n",
    "plt.legend()"
   ]
  },
  {
   "cell_type": "markdown",
   "execution_count": 57,
   "metadata": {},
   "outputs": [],
   "source": [
    "## Prepare Testing Data\n",
    "\n",
    "\n",
    "\n",
    "\n",
    "\n",
    "\n",
    "\n",
    "\n",
    "\n",
    "\n",
    "\n",
    "\n",
    "\n"
   ]
  },
  {
   "cell_type": "code",
   "execution_count": 0,
   "metadata": {},
   "outputs": [],
   "source": [
    "# transform = transforms.Compose([transforms.ToTensor()])\n",
    "\n",
    "cifar_test = torchvision.datasets.CIFAR10(root='./data', train=False, download=True, transform=transform)\n",
    "test_loader = torch.utils.data.DataLoader(cifar_test, batch_size=batch_size, shuffle=True)"
   ]
  },
  {
   "cell_type": "markdown",
   "execution_count": null,
   "metadata": {},
   "outputs": [],
   "source": [
    "## Calculate Testing Accuracy"
   ]
  },
  {
   "cell_type": "code",
   "execution_count": 0,
   "metadata": {},
   "outputs": [],
   "source": [
    "total_correct = 0\n",
    "for batch in test_loader:\n",
    "    images, labels = batch\n",
    "    predictions = network(images)\n",
    "    total_correct += predictions.argmax(dim=1).eq(labels).sum().item()\n",
    "\n",
    "print(f\"Test accuracy: {total_correct/len(cifar_test)}\")"
   ]
  },
  {
   "cell_type": "code",
   "execution_count": null,
   "metadata": {},
   "outputs": [],
   "source": []
  }
 ]
}