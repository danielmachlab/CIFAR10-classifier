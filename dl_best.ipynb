{
  "nbformat": 4,
  "nbformat_minor": 0,
  "metadata": {
    "colab": {
      "name": "dl_best.ipynb",
      "provenance": [],
      "collapsed_sections": [],
      "include_colab_link": true
    },
    "kernelspec": {
      "name": "python3",
      "display_name": "Python 3"
    },
    "accelerator": "GPU"
  },
  "cells": [
    {
      "cell_type": "markdown",
      "metadata": {
        "id": "view-in-github",
        "colab_type": "text"
      },
      "source": [
        "<a href=\"https://colab.research.google.com/github/danielmachlab/CIFAR10-classifier/blob/master/dl_best.ipynb\" target=\"_parent\"><img src=\"https://colab.research.google.com/assets/colab-badge.svg\" alt=\"Open In Colab\"/></a>"
      ]
    },
    {
      "cell_type": "markdown",
      "metadata": {
        "id": "yp5Nn7lzV3J6",
        "colab_type": "text"
      },
      "source": [
        "# Load pytorch library"
      ]
    },
    {
      "cell_type": "code",
      "metadata": {
        "id": "sZzTc_qcr0ge",
        "colab_type": "code",
        "colab": {}
      },
      "source": [
        "import torch\n",
        "import torchvision\n",
        "import torchvision.transforms as transforms\n",
        "\n",
        "torch.set_printoptions(linewidth=180)\n"
      ],
      "execution_count": 0,
      "outputs": []
    },
    {
      "cell_type": "markdown",
      "metadata": {
        "id": "M9WLDB1R0CnA",
        "colab_type": "text"
      },
      "source": [
        "# Select the device to train the CNN! \"cuda:0\" means the first GPU device."
      ]
    },
    {
      "cell_type": "code",
      "metadata": {
        "id": "W90Lsx16swAe",
        "colab_type": "code",
        "colab": {
          "base_uri": "https://localhost:8080/",
          "height": 34
        },
        "outputId": "005da367-e4b0-4383-f0cf-b49f1d6df2d5"
      },
      "source": [
        "device = torch.device(\"cuda:0\" if torch.cuda.is_available() else \"cpu\")\n",
        "print(device)\n",
        "# net.to(device)"
      ],
      "execution_count": 22,
      "outputs": [
        {
          "output_type": "stream",
          "text": [
            "cuda:0\n"
          ],
          "name": "stdout"
        }
      ]
    },
    {
      "cell_type": "code",
      "metadata": {
        "id": "iyutTRC0nnzA",
        "colab_type": "code",
        "colab": {
          "base_uri": "https://localhost:8080/",
          "height": 34
        },
        "outputId": "688fc9cb-05e4-4a29-be6e-d8b7d45204e9"
      },
      "source": [
        "valid_ratio = 0.05\n",
        "batch_size = 500\n",
        "transform = transforms.Compose([ \n",
        "                                transforms.RandomApply([transforms.RandomCrop(32, padding=4)], p=0.3),\n",
        "                                transforms.RandomHorizontalFlip(),\n",
        "                                transforms.ToTensor(),\n",
        "                                transforms.Normalize((0.4914, 0.4822, 0.4465), (0.2023, 0.1994, 0.2010)),\n",
        "                              \n",
        "                                ])\n",
        "\n",
        "cifar_train = torchvision.datasets.CIFAR10(root='./data', train=True, download=True, transform=transform)\n",
        "\n",
        "num_train = int((1.0 - valid_ratio) * len(cifar_train))\n",
        "num_valid = int(valid_ratio * len(cifar_train))\n",
        "\n",
        "train_set, valid_set = torch.utils.data.dataset.random_split(cifar_train, [num_train, num_valid])\n",
        "\n",
        "train_loader = torch.utils.data.DataLoader(train_set, batch_size=batch_size, shuffle=True)\n",
        "valid_loader = torch.utils.data.DataLoader(valid_set, batch_size=batch_size, shuffle=True)\n",
        "\n",
        "classes = ('Airplane', 'Car', 'Bird', 'Cat', 'Deer', 'Dog', 'Frog', 'Horse', 'Boat', 'Truck')\n",
        "\n"
      ],
      "execution_count": 23,
      "outputs": [
        {
          "output_type": "stream",
          "text": [
            "Files already downloaded and verified\n"
          ],
          "name": "stdout"
        }
      ]
    },
    {
      "cell_type": "code",
      "metadata": {
        "id": "TovL6MfWnn6r",
        "colab_type": "code",
        "colab": {
          "base_uri": "https://localhost:8080/",
          "height": 173
        },
        "outputId": "5a6d6435-9aea-4aa0-9159-8793684a5fb8"
      },
      "source": [
        "import matplotlib.pyplot as plt\n",
        "import numpy as np\n",
        "\n",
        "# functions to show an image\n",
        "def imshow(img):\n",
        "    img = img / 2 + 0.5     # unnormalize\n",
        "    npimg = img.numpy()\n",
        "    plt.imshow(np.transpose(npimg, (1, 2, 0)))\n",
        "    plt.show()\n",
        "\n",
        "\n",
        "# get iterater for loaded training images\n",
        "dataiter = iter(train_loader)\n",
        "\n",
        "# get the next batch of images and labels\n",
        "images, labels = dataiter.next()\n",
        "\n",
        "# show images\n",
        "imshow(torchvision.utils.make_grid(images[:4,]))\n",
        "# print labels\n",
        "print(' '.join('%5s' % classes[labels[j]] for j in range(4)))"
      ],
      "execution_count": 24,
      "outputs": [
        {
          "output_type": "stream",
          "text": [
            "Clipping input data to the valid range for imshow with RGB data ([0..1] for floats or [0..255] for integers).\n"
          ],
          "name": "stderr"
        },
        {
          "output_type": "display_data",
          "data": {
            "image/png": "[encoded data removed]",
            "text/plain": [
              "<Figure size 432x288 with 1 Axes>"
            ]
          },
          "metadata": {
            "tags": []
          }
        },
        {
          "output_type": "stream",
          "text": [
            " Bird  Boat  Deer   Dog\n"
          ],
          "name": "stdout"
        }
      ]
    },
    {
      "cell_type": "markdown",
      "metadata": {
        "id": "g45sixh9_nvc",
        "colab_type": "text"
      },
      "source": [
        "# Network Definition"
      ]
    },
    {
      "cell_type": "code",
      "metadata": {
        "id": "LdOLwO01noCc",
        "colab_type": "code",
        "colab": {}
      },
      "source": [
        "import torch.nn as nn # neural network library\n",
        "import torch.nn.functional as F\n",
        "\n",
        "\n",
        "class Network(nn.Module):\n",
        "    def __init__(self):\n",
        "        super(Network, self).__init__()\n",
        "\n",
        "        self.conv_layer = nn.Sequential(\n",
        "            nn.Conv2d(in_channels=3, out_channels=64, kernel_size=3, padding=1),\n",
        "            nn.BatchNorm2d(64),\n",
        "            nn.ReLU(inplace=True),\n",
        "            nn.Conv2d(in_channels=64, out_channels=64, kernel_size=3, padding=1),\n",
        "            nn.ReLU(inplace=True),\n",
        "            nn.MaxPool2d(kernel_size=2, stride=2),\n",
        "           \n",
        "\n",
        "            # Conv Layer block 2\n",
        "            nn.Conv2d(in_channels=64, out_channels=64, kernel_size=3, padding=1),\n",
        "            nn.BatchNorm2d(64),\n",
        "            nn.ReLU(inplace=True),\n",
        "            nn.Conv2d(in_channels=64, out_channels=64, kernel_size=3, padding=1),\n",
        "            nn.ReLU(inplace=True),\n",
        "            nn.MaxPool2d(kernel_size=2, stride=2),\n",
        "            nn.Dropout2d(p=0.1),\n",
        "\n",
        "            # Conv Layer block 3\n",
        "            nn.Conv2d(in_channels=64, out_channels=64, kernel_size=3, padding=1),\n",
        "            nn.BatchNorm2d(64),\n",
        "            nn.ReLU(inplace=True),\n",
        "            nn.Conv2d(in_channels=64, out_channels=64, kernel_size=3, padding=1),\n",
        "            nn.ReLU(inplace=True),\n",
        "            nn.MaxPool2d(kernel_size=2, stride=2),\n",
        "            nn.Dropout2d(p=0.2),\n",
        "        )\n",
        "        self.fc_layer = nn.Sequential(\n",
        "            nn.Linear(64*4*4, 512),\n",
        "            nn.ReLU(inplace=True),\n",
        "            nn.Linear(512, 128),\n",
        "            nn.ReLU(inplace=True),\n",
        "            nn.Linear(128, 10)\n",
        "        )\n",
        "      \n",
        "\n",
        "    def forward(self, x):\n",
        "        \"\"\"Perform forward.\"\"\"\n",
        "        \n",
        "        # conv layers\n",
        "        x = self.conv_layer(x)\n",
        "        \n",
        "        # flatten\n",
        "        x = x.view(x.size(0), -1)\n",
        "        \n",
        "        # fc layer\n",
        "        x = self.fc_layer(x)\n",
        "\n",
        "        return x\n",
        "\n"
      ],
      "execution_count": 0,
      "outputs": []
    },
    {
      "cell_type": "markdown",
      "metadata": {
        "id": "p1xFON_w_kl9",
        "colab_type": "text"
      },
      "source": [
        "# Model Visualization"
      ]
    },
    {
      "cell_type": "code",
      "metadata": {
        "id": "4TK4nOzYnoI8",
        "colab_type": "code",
        "colab": {
          "base_uri": "https://localhost:8080/",
          "height": 699
        },
        "outputId": "d37bc3d5-b1fc-49e1-d384-24a930e91a5c"
      },
      "source": [
        "from torchsummary import summary\n",
        "from torchvision import models\n",
        "\n",
        "model = Network()\n",
        "device = torch.device(\"cuda:0\" if torch.cuda.is_available() else \"cpu\")\n",
        "print(device)\n",
        "model.to(device)\n",
        "summary(model, (3, 32, 32))"
      ],
      "execution_count": 26,
      "outputs": [
        {
          "output_type": "stream",
          "text": [
            "cuda:0\n",
            "----------------------------------------------------------------\n",
            "        Layer (type)               Output Shape         Param #\n",
            "================================================================\n",
            "            Conv2d-1           [-1, 64, 32, 32]           1,792\n",
            "       BatchNorm2d-2           [-1, 64, 32, 32]             128\n",
            "              ReLU-3           [-1, 64, 32, 32]               0\n",
            "            Conv2d-4           [-1, 64, 32, 32]          36,928\n",
            "              ReLU-5           [-1, 64, 32, 32]               0\n",
            "         MaxPool2d-6           [-1, 64, 16, 16]               0\n",
            "            Conv2d-7           [-1, 64, 16, 16]          36,928\n",
            "       BatchNorm2d-8           [-1, 64, 16, 16]             128\n",
            "              ReLU-9           [-1, 64, 16, 16]               0\n",
            "           Conv2d-10           [-1, 64, 16, 16]          36,928\n",
            "             ReLU-11           [-1, 64, 16, 16]               0\n",
            "        MaxPool2d-12             [-1, 64, 8, 8]               0\n",
            "        Dropout2d-13             [-1, 64, 8, 8]               0\n",
            "           Conv2d-14             [-1, 64, 8, 8]          36,928\n",
            "      BatchNorm2d-15             [-1, 64, 8, 8]             128\n",
            "             ReLU-16             [-1, 64, 8, 8]               0\n",
            "           Conv2d-17             [-1, 64, 8, 8]          36,928\n",
            "             ReLU-18             [-1, 64, 8, 8]               0\n",
            "        MaxPool2d-19             [-1, 64, 4, 4]               0\n",
            "        Dropout2d-20             [-1, 64, 4, 4]               0\n",
            "           Linear-21                  [-1, 512]         524,800\n",
            "             ReLU-22                  [-1, 512]               0\n",
            "           Linear-23                  [-1, 128]          65,664\n",
            "             ReLU-24                  [-1, 128]               0\n",
            "           Linear-25                   [-1, 10]           1,290\n",
            "================================================================\n",
            "Total params: 778,570\n",
            "Trainable params: 778,570\n",
            "Non-trainable params: 0\n",
            "----------------------------------------------------------------\n",
            "Input size (MB): 0.01\n",
            "Forward/backward pass size (MB): 3.49\n",
            "Params size (MB): 2.97\n",
            "Estimated Total Size (MB): 6.48\n",
            "----------------------------------------------------------------\n"
          ],
          "name": "stdout"
        }
      ]
    },
    {
      "cell_type": "code",
      "metadata": {
        "id": "AcaRpGKyn10c",
        "colab_type": "code",
        "colab": {
          "base_uri": "https://localhost:8080/",
          "height": 34
        },
        "outputId": "85520873-2d6f-46c0-8253-63b135bed8c3"
      },
      "source": [
        "from google.colab import drive\n",
        "drive.mount('/content/drive')\n",
        "\n",
        "PATH_notrig = 'drive/My Drive/School/DL/no_trig.pth'\n",
        "PATH_earlystop = 'drive/My Drive/School/DL/early_stop.pth'\n",
        "PATH_bestloss = 'drive/My Drive/School/DL/best_loss.pth'\n",
        "\n",
        "def get_num_correct(predictions, labels):\n",
        "  return predictions.argmax(dim=1).eq(labels).sum().item()\n"
      ],
      "execution_count": 27,
      "outputs": [
        {
          "output_type": "stream",
          "text": [
            "Drive already mounted at /content/drive; to attempt to forcibly remount, call drive.mount(\"/content/drive\", force_remount=True).\n"
          ],
          "name": "stdout"
        }
      ]
    },
    {
      "cell_type": "code",
      "metadata": {
        "id": "Ys1f7zHVnxe4",
        "colab_type": "code",
        "colab": {}
      },
      "source": [
        "def print_loss(train_loss, valid_loss):\n",
        "    plt.plot(train_loss, label=\"Train Loss\")\n",
        "    plt.plot(valid_loss, label=\"Valid Loss\")\n",
        "    plt.xlabel(\"Epochs\")\n",
        "    plt.ylabel(\"Loss\")\n",
        "    plt.legend()\n",
        "    plt.show()"
      ],
      "execution_count": 0,
      "outputs": []
    },
    {
      "cell_type": "markdown",
      "metadata": {
        "id": "8Fly4lZk_PHE",
        "colab_type": "text"
      },
      "source": [
        "# Training Loop"
      ]
    },
    {
      "cell_type": "code",
      "metadata": {
        "id": "8Qix0IhXnxa9",
        "colab_type": "code",
        "colab": {
          "base_uri": "https://localhost:8080/",
          "height": 1000
        },
        "outputId": "f3de0ce4-d988-419e-d72e-35e20fce11f8"
      },
      "source": [
        "import torch\n",
        "import torch.optim as optim\n",
        "import torch.nn as nn\n",
        "import torch.nn.functional as F\n",
        "import matplotlib.pyplot as plt\n",
        "import time\n",
        "\n",
        "lr = 0.001\n",
        "network = Network()\n",
        "network.to(device)\n",
        "optimizer = optim.Adam(network.parameters(), lr=lr) # parameters are weights and baises\n",
        "\n",
        "train_loss = []\n",
        "valid_loss = []\n",
        "models = []\n",
        "best_loss = np.float('inf')\n",
        "early_epoch = -1\n",
        "start_time = time.time()\n",
        "stopped = False\n",
        "for epoch in range(50):\n",
        "    train_correct = 0\n",
        "    batch_loss = []\n",
        "    for batch in train_loader:\n",
        "      \n",
        "        images, labels = batch[0].to(device), batch[1].to(device)\n",
        "\n",
        "        # Make Predictions, calculate loss\n",
        "        predictions = network(images)\n",
        "        loss = F.cross_entropy(predictions, labels)\n",
        "\n",
        "        # Update Network\n",
        "        optimizer.zero_grad()\n",
        "        loss.backward()\n",
        "        optimizer.step()\n",
        "\n",
        "        # Save Analytics\n",
        "        batch_loss.append(loss.item())\n",
        "        train_correct += get_num_correct(predictions, labels)\n",
        "    \n",
        "    train_loss.append(sum(batch_loss)/len(batch_loss))\n",
        "    with torch.no_grad():\n",
        "        batch_loss = []\n",
        "        valid_correct = 0\n",
        "        for batch in valid_loader:\n",
        "            images, labels = batch[0].to(device), batch[1].to(device)\n",
        "\n",
        "            predictions = network(images)\n",
        "            loss = F.cross_entropy(predictions, labels)\n",
        "            batch_loss.append(loss.item())\n",
        "            valid_correct += get_num_correct(predictions, labels)\n",
        "        \n",
        "        valid_loss.append(sum(batch_loss)/len(batch_loss))\n",
        "    \n",
        "    # Model saving\n",
        "    if valid_loss[-1] < best_loss:\n",
        "        torch.save(network.state_dict(), PATH_bestloss) # Best Validation Loss\n",
        "        best_loss = valid_loss[-1]\n",
        "        best_epoch = epoch\n",
        "    \n",
        "    loss_sum = 0\n",
        "    models.append(network.state_dict())\n",
        "    \n",
        "    for k in range(epoch, max(epoch-3, 0), -1):\n",
        "        loss_sum += valid_loss[k] - valid_loss[k-1]\n",
        "    if loss_sum > 0 and not stopped:\n",
        "        print(\"early stop\")\n",
        "        stopped = True\n",
        "        torch.save(models[k], PATH_earlystop) # Early Stopping\n",
        "        early_epoch = epoch\n",
        "    \n",
        "\n",
        "\n",
        "    print(f\"{time.time() - start_time:.1f} seconds \\t epoch: {epoch} \\t train loss: {train_loss[-1]: .3f} \\t train accuracy: {train_correct/len(train_set): .3f} \\t valid loss: {valid_loss[-1]: .3f} \\t valid accuracy: {valid_correct/len(valid_set):.3f}\")\n",
        "\n",
        "    if epoch % 10 == 0:\n",
        "        print_loss(train_loss, valid_loss)\n",
        "        print(f\"Best validation loss epoch: {best_epoch}\")\n",
        "        print(f\"Early stoppping epoch: {early_epoch}\")\n",
        "\n",
        "torch.save(models[-1], PATH_notrig) # Early Stopping\n",
        "\n",
        "\n"
      ],
      "execution_count": 29,
      "outputs": [
        {
          "output_type": "stream",
          "text": [
            "35.9 seconds \t epoch: 0 \t train loss:  1.581 \t train accuracy:  0.400 \t valid loss:  1.280 \t valid accuracy: 0.541\n"
          ],
          "name": "stdout"
        },
        {
          "output_type": "display_data",
          "data": {
            "image/png": "[encoded data removed]",
            "text/plain": [
              "<Figure size 432x288 with 1 Axes>"
            ]
          },
          "metadata": {
            "tags": []
          }
        },
        {
          "output_type": "stream",
          "text": [
            "Best validation loss epoch: 0\n",
            "Early stoppping epoch: -1\n",
            "71.8 seconds \t epoch: 1 \t train loss:  1.163 \t train accuracy:  0.575 \t valid loss:  1.015 \t valid accuracy: 0.643\n",
            "107.5 seconds \t epoch: 2 \t train loss:  0.955 \t train accuracy:  0.657 \t valid loss:  0.878 \t valid accuracy: 0.680\n",
            "143.1 seconds \t epoch: 3 \t train loss:  0.825 \t train accuracy:  0.707 \t valid loss:  0.751 \t valid accuracy: 0.734\n",
            "178.8 seconds \t epoch: 4 \t train loss:  0.750 \t train accuracy:  0.735 \t valid loss:  0.729 \t valid accuracy: 0.746\n",
            "214.4 seconds \t epoch: 5 \t train loss:  0.685 \t train accuracy:  0.759 \t valid loss:  0.682 \t valid accuracy: 0.762\n",
            "250.0 seconds \t epoch: 6 \t train loss:  0.642 \t train accuracy:  0.774 \t valid loss:  0.639 \t valid accuracy: 0.778\n",
            "285.7 seconds \t epoch: 7 \t train loss:  0.611 \t train accuracy:  0.787 \t valid loss:  0.660 \t valid accuracy: 0.773\n",
            "321.5 seconds \t epoch: 8 \t train loss:  0.573 \t train accuracy:  0.799 \t valid loss:  0.602 \t valid accuracy: 0.799\n",
            "357.1 seconds \t epoch: 9 \t train loss:  0.543 \t train accuracy:  0.810 \t valid loss:  0.592 \t valid accuracy: 0.796\n",
            "392.8 seconds \t epoch: 10 \t train loss:  0.513 \t train accuracy:  0.822 \t valid loss:  0.556 \t valid accuracy: 0.803\n"
          ],
          "name": "stdout"
        },
        {
          "output_type": "display_data",
          "data": {
            "image/png": "[encoded data removed]",
            "text/plain": [
              "<Figure size 432x288 with 1 Axes>"
            ]
          },
          "metadata": {
            "tags": []
          }
        },
        {
          "output_type": "stream",
          "text": [
            "Best validation loss epoch: 10\n",
            "Early stoppping epoch: -1\n",
            "428.7 seconds \t epoch: 11 \t train loss:  0.497 \t train accuracy:  0.826 \t valid loss:  0.535 \t valid accuracy: 0.817\n",
            "464.3 seconds \t epoch: 12 \t train loss:  0.477 \t train accuracy:  0.834 \t valid loss:  0.522 \t valid accuracy: 0.817\n",
            "499.8 seconds \t epoch: 13 \t train loss:  0.459 \t train accuracy:  0.842 \t valid loss:  0.550 \t valid accuracy: 0.812\n",
            "535.3 seconds \t epoch: 14 \t train loss:  0.443 \t train accuracy:  0.846 \t valid loss:  0.521 \t valid accuracy: 0.820\n",
            "570.9 seconds \t epoch: 15 \t train loss:  0.428 \t train accuracy:  0.851 \t valid loss:  0.489 \t valid accuracy: 0.826\n",
            "606.5 seconds \t epoch: 16 \t train loss:  0.413 \t train accuracy:  0.857 \t valid loss:  0.514 \t valid accuracy: 0.825\n",
            "642.1 seconds \t epoch: 17 \t train loss:  0.402 \t train accuracy:  0.860 \t valid loss:  0.501 \t valid accuracy: 0.834\n",
            "early stop\n",
            "677.8 seconds \t epoch: 18 \t train loss:  0.387 \t train accuracy:  0.866 \t valid loss:  0.491 \t valid accuracy: 0.832\n",
            "713.5 seconds \t epoch: 19 \t train loss:  0.379 \t train accuracy:  0.869 \t valid loss:  0.479 \t valid accuracy: 0.839\n",
            "749.0 seconds \t epoch: 20 \t train loss:  0.364 \t train accuracy:  0.874 \t valid loss:  0.487 \t valid accuracy: 0.830\n"
          ],
          "name": "stdout"
        },
        {
          "output_type": "display_data",
          "data": {
            "image/png": "[encoded data removed]",
            "text/plain": [
              "<Figure size 432x288 with 1 Axes>"
            ]
          },
          "metadata": {
            "tags": []
          }
        },
        {
          "output_type": "stream",
          "text": [
            "Best validation loss epoch: 19\n",
            "Early stoppping epoch: 18\n",
            "784.8 seconds \t epoch: 21 \t train loss:  0.355 \t train accuracy:  0.877 \t valid loss:  0.475 \t valid accuracy: 0.833\n",
            "820.4 seconds \t epoch: 22 \t train loss:  0.350 \t train accuracy:  0.879 \t valid loss:  0.509 \t valid accuracy: 0.831\n",
            "855.9 seconds \t epoch: 23 \t train loss:  0.339 \t train accuracy:  0.882 \t valid loss:  0.461 \t valid accuracy: 0.848\n",
            "891.1 seconds \t epoch: 24 \t train loss:  0.332 \t train accuracy:  0.883 \t valid loss:  0.470 \t valid accuracy: 0.841\n",
            "926.5 seconds \t epoch: 25 \t train loss:  0.322 \t train accuracy:  0.886 \t valid loss:  0.498 \t valid accuracy: 0.838\n",
            "961.7 seconds \t epoch: 26 \t train loss:  0.318 \t train accuracy:  0.889 \t valid loss:  0.464 \t valid accuracy: 0.851\n",
            "996.8 seconds \t epoch: 27 \t train loss:  0.310 \t train accuracy:  0.891 \t valid loss:  0.463 \t valid accuracy: 0.851\n",
            "1031.9 seconds \t epoch: 28 \t train loss:  0.300 \t train accuracy:  0.894 \t valid loss:  0.495 \t valid accuracy: 0.849\n",
            "1067.0 seconds \t epoch: 29 \t train loss:  0.296 \t train accuracy:  0.898 \t valid loss:  0.496 \t valid accuracy: 0.840\n",
            "1102.1 seconds \t epoch: 30 \t train loss:  0.287 \t train accuracy:  0.899 \t valid loss:  0.461 \t valid accuracy: 0.844\n"
          ],
          "name": "stdout"
        },
        {
          "output_type": "display_data",
          "data": {
            "image/png": "[encoded data removed]",
            "text/plain": [
              "<Figure size 432x288 with 1 Axes>"
            ]
          },
          "metadata": {
            "tags": []
          }
        },
        {
          "output_type": "stream",
          "text": [
            "Best validation loss epoch: 30\n",
            "Early stoppping epoch: 18\n",
            "1137.9 seconds \t epoch: 31 \t train loss:  0.283 \t train accuracy:  0.901 \t valid loss:  0.466 \t valid accuracy: 0.849\n",
            "1173.6 seconds \t epoch: 32 \t train loss:  0.278 \t train accuracy:  0.901 \t valid loss:  0.465 \t valid accuracy: 0.849\n",
            "1209.2 seconds \t epoch: 33 \t train loss:  0.274 \t train accuracy:  0.905 \t valid loss:  0.460 \t valid accuracy: 0.855\n",
            "1244.8 seconds \t epoch: 34 \t train loss:  0.268 \t train accuracy:  0.906 \t valid loss:  0.457 \t valid accuracy: 0.847\n",
            "1280.4 seconds \t epoch: 35 \t train loss:  0.262 \t train accuracy:  0.909 \t valid loss:  0.476 \t valid accuracy: 0.848\n",
            "1316.0 seconds \t epoch: 36 \t train loss:  0.253 \t train accuracy:  0.913 \t valid loss:  0.470 \t valid accuracy: 0.853\n",
            "1351.6 seconds \t epoch: 37 \t train loss:  0.246 \t train accuracy:  0.912 \t valid loss:  0.483 \t valid accuracy: 0.845\n",
            "1387.1 seconds \t epoch: 38 \t train loss:  0.251 \t train accuracy:  0.913 \t valid loss:  0.457 \t valid accuracy: 0.850\n",
            "1422.6 seconds \t epoch: 39 \t train loss:  0.245 \t train accuracy:  0.914 \t valid loss:  0.472 \t valid accuracy: 0.844\n",
            "1458.2 seconds \t epoch: 40 \t train loss:  0.244 \t train accuracy:  0.915 \t valid loss:  0.459 \t valid accuracy: 0.850\n"
          ],
          "name": "stdout"
        },
        {
          "output_type": "display_data",
          "data": {
            "image/png": "[encoded data removed]",
            "text/plain": [
              "<Figure size 432x288 with 1 Axes>"
            ]
          },
          "metadata": {
            "tags": []
          }
        },
        {
          "output_type": "stream",
          "text": [
            "Best validation loss epoch: 34\n",
            "Early stoppping epoch: 18\n",
            "1493.9 seconds \t epoch: 41 \t train loss:  0.240 \t train accuracy:  0.917 \t valid loss:  0.446 \t valid accuracy: 0.844\n",
            "1529.5 seconds \t epoch: 42 \t train loss:  0.224 \t train accuracy:  0.922 \t valid loss:  0.445 \t valid accuracy: 0.864\n",
            "1565.2 seconds \t epoch: 43 \t train loss:  0.224 \t train accuracy:  0.921 \t valid loss:  0.425 \t valid accuracy: 0.859\n",
            "1600.9 seconds \t epoch: 44 \t train loss:  0.225 \t train accuracy:  0.922 \t valid loss:  0.445 \t valid accuracy: 0.860\n",
            "1636.4 seconds \t epoch: 45 \t train loss:  0.224 \t train accuracy:  0.922 \t valid loss:  0.480 \t valid accuracy: 0.852\n",
            "1672.1 seconds \t epoch: 46 \t train loss:  0.223 \t train accuracy:  0.922 \t valid loss:  0.490 \t valid accuracy: 0.851\n",
            "1707.6 seconds \t epoch: 47 \t train loss:  0.208 \t train accuracy:  0.928 \t valid loss:  0.482 \t valid accuracy: 0.854\n",
            "1743.3 seconds \t epoch: 48 \t train loss:  0.213 \t train accuracy:  0.925 \t valid loss:  0.450 \t valid accuracy: 0.855\n",
            "1778.9 seconds \t epoch: 49 \t train loss:  0.214 \t train accuracy:  0.926 \t valid loss:  0.435 \t valid accuracy: 0.864\n"
          ],
          "name": "stdout"
        }
      ]
    },
    {
      "cell_type": "code",
      "metadata": {
        "id": "R4yH8z_FOeff",
        "colab_type": "code",
        "colab": {
          "base_uri": "https://localhost:8080/",
          "height": 314
        },
        "outputId": "1a7c36bf-c5fc-4ead-ce2d-4ef2e5c0c77a"
      },
      "source": [
        "print_loss(train_loss, valid_loss)\n",
        "print(f\"Best validation loss epoch: {best_epoch}\")\n",
        "print(f\"Early stoppping epoch: {early_epoch}\")\n"
      ],
      "execution_count": 30,
      "outputs": [
        {
          "output_type": "display_data",
          "data": {
            "image/png": "[encoded data removed]",
            "text/plain": [
              "<Figure size 432x288 with 1 Axes>"
            ]
          },
          "metadata": {
            "tags": []
          }
        },
        {
          "output_type": "stream",
          "text": [
            "Best validation loss epoch: 43\n",
            "Early stoppping epoch: 18\n"
          ],
          "name": "stdout"
        }
      ]
    },
    {
      "cell_type": "markdown",
      "metadata": {
        "id": "CTwZKi6g_VQL",
        "colab_type": "text"
      },
      "source": [
        "# Testing Accuracy"
      ]
    },
    {
      "cell_type": "code",
      "metadata": {
        "id": "URGGKNJYnxkA",
        "colab_type": "code",
        "colab": {
          "base_uri": "https://localhost:8080/",
          "height": 87
        },
        "outputId": "8ef38a4c-2cbe-4169-e112-d9c131a7ae19"
      },
      "source": [
        "# transform = transforms.Compose([transforms.ToTensor()])\n",
        "\n",
        "cifar_test = torchvision.datasets.CIFAR10(root='./data', train=False, download=True, transform=transform)\n",
        "test_loader = torch.utils.data.DataLoader(cifar_test, batch_size=batch_size, shuffle=True)\n",
        "nets = []\n",
        "\n",
        "try:\n",
        "  bestloss_net = Network()\n",
        "  bestloss_net.load_state_dict(torch.load(PATH_bestloss))\n",
        "  bestloss_net.to(device)\n",
        "  nets.append(bestloss_net)\n",
        "except FileNotFoundError:\n",
        "  print(f\"{PATH_bestloss} file not found\")\n",
        "\n",
        "try:\n",
        "  earlystop_net = Network()\n",
        "  earlystop_net.load_state_dict(torch.load(PATH_earlystop))\n",
        "  earlystop_net.to(device)\n",
        "  nets.append(earlystop_net)\n",
        "except FileNotFoundError:\n",
        "  print(f\"{PATH_earlystop} file not found\")\n",
        "\n",
        "try:\n",
        "  notrig_net = Network()\n",
        "  notrig_net.load_state_dict(torch.load(PATH_notrig))\n",
        "  notrig_net.to(device)\n",
        "  nets.append(notrig_net)\n",
        "except FileNotFoundError:\n",
        "  print(f\"{PATH_notrig} file not found\")\n",
        "\n",
        "net_names = [\"bestloss_net\", \"earlystop_net\", \"notrig_net\"]\n",
        "\n",
        "for i, net in enumerate(nets, 0):\n",
        "  total_correct = 0\n",
        "  for batch in test_loader:\n",
        "      images, labels = batch[0].to(device), batch[1].to(device)\n",
        "      predictions = net(images)\n",
        "  total_correct += predictions.argmax(dim=1).eq(labels).sum().item()\n",
        "  print(f\"Test accuracy {net_names[i]}: {total_correct/len(cifar_test)}\")\n",
        "\n"
      ],
      "execution_count": 31,
      "outputs": [
        {
          "output_type": "stream",
          "text": [
            "Files already downloaded and verified\n",
            "Test accuracy bestloss_net: 0.0419\n",
            "Test accuracy earlystop_net: 0.0411\n",
            "Test accuracy notrig_net: 0.0422\n"
          ],
          "name": "stdout"
        }
      ]
    },
    {
      "cell_type": "code",
      "metadata": {
        "id": "UHcLX2fln7iw",
        "colab_type": "code",
        "colab": {
          "base_uri": "https://localhost:8080/",
          "height": 34
        },
        "outputId": "a8b8aef2-8415-4d09-8c5b-73debff82fcc"
      },
      "source": [
        "total_correct = 0\n",
        "for batch in test_loader:\n",
        "    images, labels = batch[0].to(device), batch[1].to(device)\n",
        "    predictions = network(images)\n",
        "    total_correct += predictions.argmax(dim=1).eq(labels).sum().item()\n",
        "\n",
        "print(f\"Test accuracy: {total_correct/len(cifar_test)}\")"
      ],
      "execution_count": 32,
      "outputs": [
        {
          "output_type": "stream",
          "text": [
            "Test accuracy: 0.8519\n"
          ],
          "name": "stdout"
        }
      ]
    }
  ]
}